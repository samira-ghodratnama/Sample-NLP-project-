{
 "cells": [
  {
   "cell_type": "markdown",
   "metadata": {},
   "source": [
    "### Piple includes:\n",
    "\n",
    "* Preprocessing\n",
    "* Text Detection and Recognition\n",
    "* Information Extraction\n",
    "* post processing\n"
   ]
  },
  {
   "cell_type": "markdown",
   "metadata": {},
   "source": [
    "### Input Types:\n",
    "* Strctured PDF:  the text are to be extracted are already in digital format hence there is no task what so ever to find the text in the image and recognize the text\n",
    "* Scanned PDF:  These documents are challenging as there are a number of hidden task attached to it\n"
   ]
  },
  {
   "cell_type": "markdown",
   "metadata": {},
   "source": [
    "### Strctured PDF\n",
    "\n",
    "**Tabular Data** :If it is a tabular data we can use *camelot* , *tabula* or *pdftotext* library to directly convert the data into a dataframe. \n",
    "To extract tabular content either the use of vertical and horizontal lines we can identify a table through this else the libraries mentioned help us in identifying the table \n",
    "get the table columns , header and footer and deciphering it on the basis of it coordinate with respect to the column area\n",
    "\n",
    "**text PDF**: then PDFMiner , PyPDF2, PDFQuery , xpdf-python converts the data into textual format as the text are structured then we can use search based information extraction.\n",
    "\n",
    "Keywords surrounding the entity(search for the keyword left to it and a keyword right to it\n",
    "Using Regex-Simple data such as phone number , pincode , email ID , company initials etc.\n"
   ]
  },
  {
   "cell_type": "code",
   "execution_count": null,
   "metadata": {},
   "outputs": [],
   "source": []
  }
 ],
 "metadata": {
  "kernelspec": {
   "display_name": "Python 3",
   "language": "python",
   "name": "python3"
  },
  "language_info": {
   "codemirror_mode": {
    "name": "ipython",
    "version": 3
   },
   "file_extension": ".py",
   "mimetype": "text/x-python",
   "name": "python",
   "nbconvert_exporter": "python",
   "pygments_lexer": "ipython3",
   "version": "3.7.3"
  }
 },
 "nbformat": 4,
 "nbformat_minor": 2
}
